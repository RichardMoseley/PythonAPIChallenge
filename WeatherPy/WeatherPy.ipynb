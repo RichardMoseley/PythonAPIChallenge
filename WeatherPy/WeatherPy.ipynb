{
 "cells": [
  {
   "cell_type": "markdown",
   "metadata": {},
   "source": [
    "# WeatherPy\n",
    "----\n",
    "\n",
    "#### Note\n",
    "* Instructions have been included for each segment. You do not have to follow them exactly, but they are included to help you think through the steps."
   ]
  },
  {
   "cell_type": "code",
   "execution_count": 2,
   "metadata": {
    "scrolled": true
   },
   "outputs": [],
   "source": [
    "# Dependencies and Setup\n",
    "import matplotlib.pyplot as plt\n",
    "import pandas as pd\n",
    "import numpy as np\n",
    "import requests\n",
    "import time\n",
    "import scipy.stats as st\n",
    "from scipy.stats import linregress\n",
    "import json\n",
    "\n",
    "# Import API key\n",
    "from api_keys import weather_api_key\n",
    "\n",
    "# Incorporated citipy to determine city based on latitude and longitude\n",
    "from citipy import citipy\n",
    "\n",
    "\n",
    "# Range of latitudes and longitudes\n",
    "lat_range = (-90, 90)\n",
    "lng_range = (-180, 180)"
   ]
  },
  {
   "cell_type": "markdown",
   "metadata": {},
   "source": [
    "## Generate Cities List"
   ]
  },
  {
   "cell_type": "code",
   "execution_count": 3,
   "metadata": {},
   "outputs": [
    {
     "data": {
      "text/plain": [
       "597"
      ]
     },
     "execution_count": 3,
     "metadata": {},
     "output_type": "execute_result"
    }
   ],
   "source": [
    "# List for holding lat_lngs and cities\n",
    "lat_lngs = []\n",
    "cities = []\n",
    "\n",
    "# Create a set of random lat and lng combinations\n",
    "lats = np.random.uniform(lat_range[0], lat_range[1], size=1500)\n",
    "lngs = np.random.uniform(lng_range[0], lng_range[1], size=1500)\n",
    "lat_lngs = zip(lats, lngs)\n",
    "\n",
    "# Identify nearest city for each lat, lng combination\n",
    "for lat_lng in lat_lngs:\n",
    "    city = citipy.nearest_city(lat_lng[0], lat_lng[1]).city_name\n",
    "    \n",
    "    # If the city is unique, then add it to a our cities list\n",
    "    if city not in cities:\n",
    "        cities.append(city)\n",
    "\n",
    "# Print the city count to confirm sufficient count\n",
    "len(cities)"
   ]
  },
  {
   "cell_type": "markdown",
   "metadata": {},
   "source": [
    "### Perform API Calls\n",
    "* Perform a weather check on each city using a series of successive API calls.\n",
    "* Include a print log of each city as it'sbeing processed (with the city number and city name).\n"
   ]
  },
  {
   "cell_type": "code",
   "execution_count": 4,
   "metadata": {
    "scrolled": true
   },
   "outputs": [
    {
     "name": "stdout",
     "output_type": "stream",
     "text": [
      "Pulling info on city 1: yellowknife\n",
      "Pulling info on city 2: ilulissat\n",
      "Pulling info on city 3: georgetown\n",
      "Pulling info on city 4: rikitea\n",
      "Pulling info on city 5: ushuaia\n",
      "Pulling info on city 6: clyde river\n",
      "Pulling info on city 7: mataura\n",
      "Pulling info on city 8: necochea\n",
      "Pulling info on city 9: saint george\n",
      "Pulling info on city 10: vaini\n",
      "Pulling info on city 11: kodiak\n",
      "Error, city not found! Skipping...\n",
      "Pulling info on city 13: kapaa\n",
      "Pulling info on city 14: salalah\n",
      "Pulling info on city 15: hearst\n",
      "Pulling info on city 16: jamestown\n",
      "Pulling info on city 17: butaritari\n",
      "Pulling info on city 18: bilma\n",
      "Pulling info on city 19: bardiyah\n",
      "Pulling info on city 20: magistralnyy\n",
      "Pulling info on city 21: tasiilaq\n",
      "Pulling info on city 22: santiago\n",
      "Pulling info on city 23: bilibino\n",
      "Error, city not found! Skipping...\n",
      "Pulling info on city 25: punta arenas\n",
      "Pulling info on city 26: north vernon\n",
      "Pulling info on city 27: muroto\n",
      "Pulling info on city 28: avarua\n",
      "Pulling info on city 29: lompoc\n",
      "Pulling info on city 30: cherskiy\n",
      "Pulling info on city 31: newcastle\n",
      "Pulling info on city 32: quesnel\n",
      "Pulling info on city 33: bredasdorp\n",
      "Error, city not found! Skipping...\n",
      "Pulling info on city 35: severo-kurilsk\n",
      "Pulling info on city 36: mahebourg\n",
      "Pulling info on city 37: new norfolk\n",
      "Pulling info on city 38: carauari\n",
      "Pulling info on city 39: hermanus\n",
      "Pulling info on city 40: miraflores\n",
      "Pulling info on city 41: atuona\n",
      "Pulling info on city 42: esperance\n",
      "Pulling info on city 43: castro\n",
      "Error, city not found! Skipping...\n",
      "Pulling info on city 45: khatanga\n",
      "Pulling info on city 46: dovolnoye\n",
      "Pulling info on city 47: tabou\n",
      "Pulling info on city 48: barrow\n",
      "Pulling info on city 49: busselton\n",
      "Pulling info on city 50: dunedin\n",
      "Pulling info on city 51: la libertad\n",
      "Pulling info on city 52: lasa\n",
      "Pulling info on city 53: cape town\n",
      "Pulling info on city 54: komsomolskiy\n",
      "Pulling info on city 55: akureyri\n",
      "Pulling info on city 56: ponta do sol\n",
      "Pulling info on city 57: qaanaaq\n",
      "Pulling info on city 58: novovarshavka\n",
      "Error, city not found! Skipping...\n",
      "Pulling info on city 60: khuzhir\n",
      "Pulling info on city 61: chokurdakh\n",
      "Pulling info on city 62: arraial do cabo\n",
      "Pulling info on city 63: torbay\n",
      "Pulling info on city 64: saint anthony\n",
      "Pulling info on city 65: ostrovnoy\n",
      "Pulling info on city 66: victoria\n",
      "Pulling info on city 67: kushtagi\n",
      "Pulling info on city 68: igarka\n",
      "Pulling info on city 69: xiantao\n",
      "Pulling info on city 70: constitucion\n",
      "Pulling info on city 71: antalaha\n",
      "Pulling info on city 72: lufilufi\n",
      "Pulling info on city 73: arlit\n",
      "Pulling info on city 74: yenagoa\n",
      "Pulling info on city 75: hithadhoo\n",
      "Pulling info on city 76: tuktoyaktuk\n",
      "Pulling info on city 77: albany\n",
      "Error, city not found! Skipping...\n",
      "Pulling info on city 79: la ronge\n",
      "Pulling info on city 80: maniwaki\n",
      "Pulling info on city 81: aksu\n",
      "Pulling info on city 82: bluff\n",
      "Pulling info on city 83: belmonte\n",
      "Pulling info on city 84: rawlins\n",
      "Pulling info on city 85: haines junction\n",
      "Pulling info on city 86: manzini\n",
      "Pulling info on city 87: port alfred\n",
      "Pulling info on city 88: aswan\n",
      "Pulling info on city 89: san quintin\n",
      "Pulling info on city 90: taua\n",
      "Pulling info on city 91: sao joao da barra\n",
      "Error, city not found! Skipping...\n",
      "Pulling info on city 93: babati\n",
      "Pulling info on city 94: hilo\n",
      "Pulling info on city 95: hobart\n",
      "Pulling info on city 96: margate\n",
      "Pulling info on city 97: hambantota\n",
      "Pulling info on city 98: rawson\n",
      "Pulling info on city 99: leningradskiy\n",
      "Pulling info on city 100: westport\n",
      "Pulling info on city 101: ushtobe\n",
      "Pulling info on city 102: lastoursville\n",
      "Pulling info on city 103: corrente\n",
      "Error, city not found! Skipping...\n",
      "Pulling info on city 105: bambous virieux\n",
      "Pulling info on city 106: los pozos\n",
      "Pulling info on city 107: egvekinot\n",
      "Pulling info on city 108: saskylakh\n",
      "Pulling info on city 109: newry\n",
      "Pulling info on city 110: avera\n",
      "Pulling info on city 111: havre-saint-pierre\n",
      "Pulling info on city 112: yar-sale\n",
      "Pulling info on city 113: andover\n",
      "Pulling info on city 114: dudinka\n",
      "Pulling info on city 115: airai\n",
      "Pulling info on city 116: challans\n",
      "Pulling info on city 117: goderich\n",
      "Pulling info on city 118: majene\n",
      "Pulling info on city 119: san juan\n",
      "Pulling info on city 120: inhambane\n",
      "Pulling info on city 121: strezhevoy\n",
      "Pulling info on city 122: bengkulu\n",
      "Error, city not found! Skipping...\n",
      "Pulling info on city 124: dikson\n",
      "Pulling info on city 125: hamilton\n",
      "Pulling info on city 126: mwinilunga\n",
      "Error, city not found! Skipping...\n",
      "Pulling info on city 128: lagoa\n",
      "Pulling info on city 129: los llanos de aridane\n",
      "Pulling info on city 130: chuy\n",
      "Pulling info on city 131: anadyr\n",
      "Pulling info on city 132: korla\n",
      "Pulling info on city 133: ancud\n",
      "Pulling info on city 134: taoudenni\n",
      "Pulling info on city 135: chicama\n",
      "Error, city not found! Skipping...\n",
      "Pulling info on city 137: mayumba\n",
      "Pulling info on city 138: qasigiannguit\n",
      "Error, city not found! Skipping...\n",
      "Pulling info on city 140: vardo\n",
      "Pulling info on city 141: biltine\n",
      "Pulling info on city 142: kyzyl-suu\n",
      "Pulling info on city 143: mount gambier\n",
      "Pulling info on city 144: nuuk\n",
      "Pulling info on city 145: kavieng\n",
      "Pulling info on city 146: marsh harbour\n",
      "Pulling info on city 147: montepuez\n",
      "Pulling info on city 148: susurluk\n",
      "Pulling info on city 149: jalu\n",
      "Pulling info on city 150: da nang\n",
      "Pulling info on city 151: vostok\n",
      "Pulling info on city 152: katima mulilo\n",
      "Pulling info on city 153: petrov val\n",
      "Pulling info on city 154: veracruz\n",
      "Pulling info on city 155: luocheng\n",
      "Pulling info on city 156: barabinsk\n",
      "Pulling info on city 157: cidreira\n",
      "Error, city not found! Skipping...\n",
      "Pulling info on city 159: tala\n",
      "Pulling info on city 160: upernavik\n",
      "Error, city not found! Skipping...\n",
      "Pulling info on city 162: manicore\n",
      "Error, city not found! Skipping...\n",
      "Pulling info on city 164: ribeira grande\n",
      "Pulling info on city 165: rio gallegos\n",
      "Pulling info on city 166: mar del plata\n",
      "Pulling info on city 167: kastamonu\n",
      "Pulling info on city 168: hasaki\n",
      "Pulling info on city 169: tucuman\n",
      "Pulling info on city 170: maniitsoq\n",
      "Pulling info on city 171: ca mau\n",
      "Pulling info on city 172: tiksi\n",
      "Pulling info on city 173: hobyo\n",
      "Pulling info on city 174: sitka\n",
      "Pulling info on city 175: yerbogachen\n",
      "Pulling info on city 176: craig\n",
      "Pulling info on city 177: codrington\n",
      "Pulling info on city 178: ahipara\n",
      "Pulling info on city 179: gat\n",
      "Pulling info on city 180: puerto quijarro\n",
      "Pulling info on city 181: istok\n",
      "Pulling info on city 182: jabinyanah\n",
      "Pulling info on city 183: mahuva\n",
      "Pulling info on city 184: nikolskoye\n",
      "Pulling info on city 185: krapivinskiy\n",
      "Pulling info on city 186: cabo san lucas\n",
      "Error, city not found! Skipping...\n",
      "Pulling info on city 188: ahuimanu\n",
      "Pulling info on city 189: guerrero negro\n",
      "Pulling info on city 190: coroico\n",
      "Pulling info on city 191: aklavik\n",
      "Pulling info on city 192: katherine\n",
      "Pulling info on city 193: broome\n",
      "Pulling info on city 194: cacoal\n",
      "Pulling info on city 195: kaitangata\n",
      "Pulling info on city 196: alice springs\n",
      "Pulling info on city 197: carnarvon\n",
      "Pulling info on city 198: ulaangom\n",
      "Error, city not found! Skipping...\n",
      "Pulling info on city 200: norman wells\n",
      "Pulling info on city 201: fountain\n",
      "Pulling info on city 202: basoko\n",
      "Pulling info on city 203: adrar\n",
      "Pulling info on city 204: kuching\n",
      "Pulling info on city 205: kandrian\n",
      "Pulling info on city 206: cockburn town\n",
      "Pulling info on city 207: oussouye\n",
      "Pulling info on city 208: takoradi\n",
      "Pulling info on city 209: unity\n",
      "Pulling info on city 210: provideniya\n",
      "Error, city not found! Skipping...\n",
      "Pulling info on city 212: dabhol\n",
      "Pulling info on city 213: pevek\n",
      "Pulling info on city 214: umm lajj\n",
      "Pulling info on city 215: saint-philippe\n",
      "Pulling info on city 216: kavaratti\n",
      "Pulling info on city 217: kudahuvadhoo\n",
      "Pulling info on city 218: asfi\n",
      "Pulling info on city 219: vila franca do campo\n",
      "Pulling info on city 220: luderitz\n",
      "Pulling info on city 221: samarai\n",
      "Pulling info on city 222: sorong\n",
      "Pulling info on city 223: sibolga\n",
      "Pulling info on city 224: iqaluit\n",
      "Pulling info on city 225: kahului\n",
      "Pulling info on city 226: kalabo\n",
      "Error, city not found! Skipping...\n",
      "Error, city not found! Skipping...\n",
      "Pulling info on city 229: saint-augustin\n",
      "Pulling info on city 230: geraldton\n",
      "Pulling info on city 231: zhanakorgan\n",
      "Pulling info on city 232: karratha\n",
      "Pulling info on city 233: batemans bay\n",
      "Pulling info on city 234: maceio\n",
      "Pulling info on city 235: port elizabeth\n"
     ]
    },
    {
     "name": "stdout",
     "output_type": "stream",
     "text": [
      "Pulling info on city 236: bethel\n",
      "Pulling info on city 237: kawalu\n",
      "Pulling info on city 238: tuatapere\n",
      "Error, city not found! Skipping...\n",
      "Pulling info on city 240: colares\n",
      "Pulling info on city 241: klaksvik\n",
      "Pulling info on city 242: moncagua\n",
      "Pulling info on city 243: coihaique\n",
      "Error, city not found! Skipping...\n",
      "Pulling info on city 245: alofi\n",
      "Pulling info on city 246: bay roberts\n",
      "Error, city not found! Skipping...\n",
      "Pulling info on city 248: sobolevo\n",
      "Pulling info on city 249: baiyin\n",
      "Error, city not found! Skipping...\n",
      "Pulling info on city 251: mahon\n",
      "Pulling info on city 252: boende\n",
      "Pulling info on city 253: bafq\n",
      "Pulling info on city 254: shimoda\n",
      "Pulling info on city 255: faanui\n",
      "Pulling info on city 256: havelock\n",
      "Pulling info on city 257: lavrentiya\n",
      "Pulling info on city 258: talnakh\n",
      "Error, city not found! Skipping...\n",
      "Pulling info on city 260: santa isabel do rio negro\n",
      "Pulling info on city 261: sao sebastiao\n",
      "Pulling info on city 262: east london\n",
      "Pulling info on city 263: vestmannaeyjar\n",
      "Pulling info on city 264: el alto\n",
      "Pulling info on city 265: macklin\n",
      "Error, city not found! Skipping...\n",
      "Pulling info on city 267: anchorage\n",
      "Error, city not found! Skipping...\n",
      "Pulling info on city 269: marsa matruh\n",
      "Pulling info on city 270: zhigansk\n",
      "Pulling info on city 271: tlapehuala\n",
      "Pulling info on city 272: lata\n",
      "Error, city not found! Skipping...\n",
      "Pulling info on city 274: henties bay\n",
      "Pulling info on city 275: ferzikovo\n",
      "Pulling info on city 276: muravlenko\n",
      "Pulling info on city 277: puerto narino\n",
      "Error, city not found! Skipping...\n",
      "Pulling info on city 279: pokhara\n",
      "Pulling info on city 280: hualmay\n",
      "Error, city not found! Skipping...\n",
      "Pulling info on city 282: praia da vitoria\n",
      "Pulling info on city 283: vila velha\n",
      "Pulling info on city 284: puerto ayora\n",
      "Error, city not found! Skipping...\n",
      "Pulling info on city 286: aleksandriya\n",
      "Pulling info on city 287: buta\n",
      "Pulling info on city 288: talcahuano\n",
      "Error, city not found! Skipping...\n",
      "Pulling info on city 290: panuco\n",
      "Pulling info on city 291: grindavik\n",
      "Error, city not found! Skipping...\n",
      "Pulling info on city 293: conceicao da barra\n",
      "Pulling info on city 294: souillac\n",
      "Pulling info on city 295: baripada\n",
      "Pulling info on city 296: makakilo city\n",
      "Pulling info on city 297: fallon\n",
      "Pulling info on city 298: saldanha\n",
      "Pulling info on city 299: sosnovo-ozerskoye\n",
      "Pulling info on city 300: thompson\n",
      "Pulling info on city 301: rocha\n",
      "Pulling info on city 302: sabang\n",
      "Pulling info on city 303: sao filipe\n",
      "Pulling info on city 304: maryville\n",
      "Pulling info on city 305: rundu\n",
      "Error, city not found! Skipping...\n",
      "Pulling info on city 307: hami\n",
      "Pulling info on city 308: valparaiso\n",
      "Pulling info on city 309: moree\n",
      "Error, city not found! Skipping...\n",
      "Pulling info on city 311: atar\n",
      "Pulling info on city 312: port hardy\n",
      "Pulling info on city 313: kasongo-lunda\n",
      "Pulling info on city 314: evensk\n",
      "Pulling info on city 315: kruisfontein\n",
      "Pulling info on city 316: abu samrah\n",
      "Pulling info on city 317: hagerstown\n",
      "Pulling info on city 318: aquiraz\n",
      "Error, city not found! Skipping...\n",
      "Pulling info on city 320: sangueya\n",
      "Pulling info on city 321: olafsvik\n",
      "Pulling info on city 322: portland\n",
      "Pulling info on city 323: baruun-urt\n",
      "Pulling info on city 324: port keats\n",
      "Pulling info on city 325: juxtlahuaca\n",
      "Pulling info on city 326: ixtapa\n",
      "Pulling info on city 327: fairbanks\n",
      "Pulling info on city 328: monforte de lemos\n",
      "Pulling info on city 329: uralets\n",
      "Pulling info on city 330: burnie\n",
      "Pulling info on city 331: beloha\n",
      "Pulling info on city 332: dingle\n",
      "Pulling info on city 333: flinders\n",
      "Pulling info on city 334: wajir\n",
      "Pulling info on city 335: nome\n",
      "Pulling info on city 336: naze\n",
      "Pulling info on city 337: nanortalik\n",
      "Pulling info on city 338: imbituba\n",
      "Error, city not found! Skipping...\n",
      "Pulling info on city 340: ucluelet\n",
      "Pulling info on city 341: gravdal\n",
      "Pulling info on city 342: catamarca\n",
      "Error, city not found! Skipping...\n",
      "Pulling info on city 344: cape canaveral\n",
      "Pulling info on city 345: high level\n",
      "Pulling info on city 346: fuerte olimpo\n",
      "Pulling info on city 347: padang\n",
      "Pulling info on city 348: young\n",
      "Pulling info on city 349: paamiut\n",
      "Pulling info on city 350: mehamn\n",
      "Pulling info on city 351: camana\n",
      "Pulling info on city 352: cayenne\n",
      "Pulling info on city 353: araria\n",
      "Pulling info on city 354: roma\n",
      "Pulling info on city 355: jega\n",
      "Pulling info on city 356: biak\n",
      "Pulling info on city 357: santiago del estero\n",
      "Pulling info on city 358: oshnaviyeh\n",
      "Pulling info on city 359: agadez\n",
      "Pulling info on city 360: asau\n",
      "Error, city not found! Skipping...\n",
      "Pulling info on city 362: nantucket\n",
      "Pulling info on city 363: trat\n",
      "Pulling info on city 364: tuzha\n",
      "Pulling info on city 365: laguna\n",
      "Pulling info on city 366: santa rosa\n",
      "Pulling info on city 367: muswellbrook\n",
      "Pulling info on city 368: groningen\n",
      "Pulling info on city 369: victoria point\n",
      "Pulling info on city 370: viesca\n",
      "Error, city not found! Skipping...\n",
      "Pulling info on city 372: campo maior\n",
      "Pulling info on city 373: pisco\n",
      "Pulling info on city 374: ust-kut\n",
      "Pulling info on city 375: rio grande\n",
      "Pulling info on city 376: iralaya\n",
      "Pulling info on city 377: kingaroy\n",
      "Pulling info on city 378: galesong\n",
      "Pulling info on city 379: pedernales\n",
      "Pulling info on city 380: gazojak\n",
      "Pulling info on city 381: marataizes\n",
      "Pulling info on city 382: peace river\n",
      "Pulling info on city 383: makat\n",
      "Pulling info on city 384: omboue\n",
      "Pulling info on city 385: coquimbo\n",
      "Pulling info on city 386: fare\n",
      "Pulling info on city 387: mogadishu\n",
      "Pulling info on city 388: betsiamites\n",
      "Pulling info on city 389: riberalta\n",
      "Pulling info on city 390: rajpur\n",
      "Pulling info on city 391: bryan\n",
      "Pulling info on city 392: kaeo\n",
      "Pulling info on city 393: baijiantan\n",
      "Error, city not found! Skipping...\n",
      "Pulling info on city 395: zhuhai\n",
      "Pulling info on city 396: karlstad\n",
      "Pulling info on city 397: clocolan\n",
      "Pulling info on city 398: bassila\n",
      "Pulling info on city 399: te anau\n",
      "Pulling info on city 400: lorengau\n",
      "Pulling info on city 401: kharp\n",
      "Pulling info on city 402: warrnambool\n",
      "Pulling info on city 403: hofn\n",
      "Pulling info on city 404: noshiro\n",
      "Pulling info on city 405: tadine\n",
      "Pulling info on city 406: mayo\n",
      "Pulling info on city 407: santa lucia\n",
      "Pulling info on city 408: lebu\n",
      "Pulling info on city 409: sakakah\n",
      "Pulling info on city 410: bandarbeyla\n",
      "Pulling info on city 411: baykit\n",
      "Pulling info on city 412: angoche\n",
      "Pulling info on city 413: isabela\n",
      "Pulling info on city 414: fort nelson\n",
      "Pulling info on city 415: shache\n",
      "Pulling info on city 416: arman\n",
      "Pulling info on city 417: lokoja\n",
      "Error, city not found! Skipping...\n",
      "Pulling info on city 419: ajdabiya\n",
      "Pulling info on city 420: loandjili\n",
      "Pulling info on city 421: opuwo\n",
      "Pulling info on city 422: japura\n",
      "Pulling info on city 423: cervo\n",
      "Pulling info on city 424: jaca\n",
      "Pulling info on city 425: tabuk\n",
      "Pulling info on city 426: palmer\n",
      "Pulling info on city 427: penzance\n",
      "Pulling info on city 428: mumford\n",
      "Pulling info on city 429: kamenka\n",
      "Pulling info on city 430: ola\n",
      "Pulling info on city 431: soe\n",
      "Pulling info on city 432: vicuna\n",
      "Pulling info on city 433: byron bay\n",
      "Pulling info on city 434: iskateley\n",
      "Pulling info on city 435: havoysund\n",
      "Pulling info on city 436: weligama\n",
      "Pulling info on city 437: oksfjord\n",
      "Pulling info on city 438: san patricio\n",
      "Pulling info on city 439: hope\n",
      "Pulling info on city 440: narsaq\n",
      "Pulling info on city 441: wilmington\n",
      "Pulling info on city 442: itaueira\n",
      "Pulling info on city 443: olinda\n",
      "Pulling info on city 444: saint-pierre\n",
      "Pulling info on city 445: itarema\n",
      "Error, city not found! Skipping...\n",
      "Pulling info on city 447: nova venecia\n",
      "Pulling info on city 448: yumen\n",
      "Pulling info on city 449: longyearbyen\n",
      "Pulling info on city 450: innisfail\n",
      "Pulling info on city 451: rumonge\n",
      "Pulling info on city 452: belyy yar\n",
      "Error, city not found! Skipping...\n",
      "Pulling info on city 454: magway\n",
      "Pulling info on city 455: tarnogskiy gorodok\n",
      "Pulling info on city 456: jasper\n",
      "Pulling info on city 457: quatre cocos\n",
      "Pulling info on city 458: malkangiri\n",
      "Pulling info on city 459: silver city\n",
      "Pulling info on city 460: aseri\n",
      "Pulling info on city 461: glendive\n",
      "Pulling info on city 462: alma\n",
      "Pulling info on city 463: ust-ishim\n",
      "Pulling info on city 464: altay\n",
      "Pulling info on city 465: nova olimpia\n",
      "Pulling info on city 466: college\n",
      "Pulling info on city 467: casa grande\n",
      "Pulling info on city 468: sioux lookout\n",
      "Pulling info on city 469: eureka\n",
      "Pulling info on city 470: bahia honda\n"
     ]
    },
    {
     "name": "stdout",
     "output_type": "stream",
     "text": [
      "Pulling info on city 471: san jose\n",
      "Pulling info on city 472: melo\n",
      "Pulling info on city 473: atlantic city\n",
      "Pulling info on city 474: guarda\n",
      "Pulling info on city 475: tysmenytsya\n",
      "Pulling info on city 476: shiraz\n",
      "Pulling info on city 477: leca da palmeira\n",
      "Pulling info on city 478: nhulunbuy\n",
      "Pulling info on city 479: chernyshevskiy\n",
      "Pulling info on city 480: trairi\n",
      "Pulling info on city 481: tukums\n",
      "Pulling info on city 482: halifax\n",
      "Pulling info on city 483: prince rupert\n",
      "Pulling info on city 484: zheleznodorozhnyy\n",
      "Error, city not found! Skipping...\n",
      "Pulling info on city 486: san cristobal\n",
      "Pulling info on city 487: hargeysa\n",
      "Pulling info on city 488: shingu\n",
      "Pulling info on city 489: pestovo\n",
      "Pulling info on city 490: marion\n",
      "Pulling info on city 491: vila nova de milfontes\n",
      "Pulling info on city 492: jishou\n",
      "Pulling info on city 493: doba\n",
      "Pulling info on city 494: port hedland\n",
      "Pulling info on city 495: katobu\n",
      "Pulling info on city 496: great yarmouth\n",
      "Pulling info on city 497: bua yai\n",
      "Pulling info on city 498: namibe\n",
      "Pulling info on city 499: port hawkesbury\n",
      "Pulling info on city 500: keita\n",
      "Pulling info on city 501: belaya gora\n",
      "Pulling info on city 502: san joaquin\n",
      "Pulling info on city 503: panguna\n",
      "Pulling info on city 504: katsuura\n",
      "Pulling info on city 505: yeniseysk\n",
      "Pulling info on city 506: harper\n",
      "Pulling info on city 507: carmen\n",
      "Pulling info on city 508: fougamou\n",
      "Pulling info on city 509: waitara\n",
      "Pulling info on city 510: camacha\n",
      "Pulling info on city 511: kamachumu\n",
      "Pulling info on city 512: igdir\n",
      "Pulling info on city 513: bhaktapur\n",
      "Pulling info on city 514: azul\n",
      "Pulling info on city 515: mount isa\n",
      "Pulling info on city 516: progreso\n",
      "Pulling info on city 517: ranfurly\n",
      "Error, city not found! Skipping...\n",
      "Pulling info on city 519: slupsk\n",
      "Pulling info on city 520: motygino\n",
      "Pulling info on city 521: vrangel\n",
      "Pulling info on city 522: bosaso\n",
      "Pulling info on city 523: itupiranga\n",
      "Pulling info on city 524: steinhagen\n",
      "Error, city not found! Skipping...\n",
      "Pulling info on city 526: marevo\n",
      "Pulling info on city 527: mount hagen\n",
      "Pulling info on city 528: khowai\n",
      "Pulling info on city 529: moguer\n",
      "Pulling info on city 530: jacareacanga\n",
      "Pulling info on city 531: svetlogorsk\n",
      "Pulling info on city 532: gigmoto\n",
      "Pulling info on city 533: bannu\n",
      "Pulling info on city 534: petropavlovsk-kamchatskiy\n",
      "Pulling info on city 535: sao miguel do araguaia\n",
      "Pulling info on city 536: houma\n",
      "Pulling info on city 537: the pas\n",
      "Pulling info on city 538: high rock\n",
      "Pulling info on city 539: ormara\n",
      "Pulling info on city 540: bathsheba\n",
      "Pulling info on city 541: bac lieu\n",
      "Pulling info on city 542: maldonado\n",
      "Pulling info on city 543: sumbe\n",
      "Pulling info on city 544: luan\n",
      "Error, city not found! Skipping...\n",
      "Pulling info on city 546: tilichiki\n",
      "Pulling info on city 547: plyussa\n",
      "Pulling info on city 548: gamba\n",
      "Pulling info on city 549: bolu\n",
      "Pulling info on city 550: cuamba\n",
      "Pulling info on city 551: vao\n",
      "Pulling info on city 552: san policarpo\n",
      "Pulling info on city 553: stornoway\n",
      "Pulling info on city 554: doha\n",
      "Pulling info on city 555: port-gentil\n",
      "Pulling info on city 556: kaseda\n",
      "Pulling info on city 557: phan thiet\n",
      "Pulling info on city 558: whitley bay\n",
      "Pulling info on city 559: pacifica\n",
      "Pulling info on city 560: southampton\n",
      "Pulling info on city 561: rayadrug\n",
      "Pulling info on city 562: mokhsogollokh\n",
      "Pulling info on city 563: shelburne\n",
      "Pulling info on city 564: paulo afonso\n",
      "Pulling info on city 565: katete\n",
      "Pulling info on city 566: palmerston\n",
      "Pulling info on city 567: bagdarin\n",
      "Pulling info on city 568: saurimo\n",
      "Pulling info on city 569: shentala\n",
      "Pulling info on city 570: kuybysheve\n",
      "Pulling info on city 571: sembe\n",
      "Pulling info on city 572: kargasok\n",
      "Pulling info on city 573: pleshanovo\n",
      "Pulling info on city 574: saint-francois\n",
      "Pulling info on city 575: paso de los toros\n",
      "Pulling info on city 576: kirakira\n",
      "Error, city not found! Skipping...\n",
      "Pulling info on city 578: mega\n",
      "Pulling info on city 579: lima\n",
      "Pulling info on city 580: sept-iles\n",
      "Pulling info on city 581: port lincoln\n",
      "Pulling info on city 582: madras\n",
      "Pulling info on city 583: tornio\n",
      "Pulling info on city 584: tual\n",
      "Pulling info on city 585: owatonna\n",
      "Pulling info on city 586: ndele\n",
      "Pulling info on city 587: srednekolymsk\n",
      "Pulling info on city 588: honiara\n",
      "Pulling info on city 589: lofos\n",
      "Pulling info on city 590: tetelzingo\n",
      "Error, city not found! Skipping...\n",
      "Pulling info on city 592: kevsala\n",
      "Pulling info on city 593: mikhaylovka\n",
      "Pulling info on city 594: revda\n",
      "Pulling info on city 595: alexandria\n",
      "Pulling info on city 596: edd\n",
      "Pulling info on city 597: chase\n"
     ]
    }
   ],
   "source": [
    "url = f\"http://api.openweathermap.org/data/2.5/weather?appid={weather_api_key}&units=imperial&q=\"\n",
    "name = []\n",
    "lat = []\n",
    "lon = []\n",
    "temp = []\n",
    "wind = []\n",
    "hum = []\n",
    "country = []\n",
    "cloud = []\n",
    "date = []\n",
    "series = 0\n",
    "for i in cities:\n",
    "    try:\n",
    "        series += 1\n",
    "        response = requests.get(url + i).json()\n",
    "        name.append(response['name'])\n",
    "        lat.append(response['coord']['lat'])\n",
    "        lon.append(response['coord']['lon'])\n",
    "        temp.append(response['main']['temp_max'])\n",
    "        wind.append(response['wind']['speed'])\n",
    "        hum.append(response['main']['humidity'])\n",
    "        country.append(response['sys']['country'])\n",
    "        date.append(response['dt'])\n",
    "        cloud.append(response['clouds']['all'])\n",
    "        print(f\"Pulling info on city {series}: {i}\")\n",
    "    except (KeyError, IndexError):\n",
    "        print('Error, city not found! Skipping...')"
   ]
  },
  {
   "cell_type": "code",
   "execution_count": 5,
   "metadata": {},
   "outputs": [
    {
     "name": "stdout",
     "output_type": "stream",
     "text": [
      "597\n",
      "547\n"
     ]
    }
   ],
   "source": [
    "print(len(cities))\n",
    "print(len(name))"
   ]
  },
  {
   "cell_type": "markdown",
   "metadata": {},
   "source": [
    "### Convert Raw Data to DataFrame\n",
    "* Export the city data into a .csv.\n",
    "* Display the DataFrame"
   ]
  },
  {
   "cell_type": "code",
   "execution_count": 6,
   "metadata": {},
   "outputs": [
    {
     "data": {
      "text/html": [
       "<div>\n",
       "<style scoped>\n",
       "    .dataframe tbody tr th:only-of-type {\n",
       "        vertical-align: middle;\n",
       "    }\n",
       "\n",
       "    .dataframe tbody tr th {\n",
       "        vertical-align: top;\n",
       "    }\n",
       "\n",
       "    .dataframe thead th {\n",
       "        text-align: right;\n",
       "    }\n",
       "</style>\n",
       "<table border=\"1\" class=\"dataframe\">\n",
       "  <thead>\n",
       "    <tr style=\"text-align: right;\">\n",
       "      <th></th>\n",
       "      <th>City</th>\n",
       "      <th>Lat</th>\n",
       "      <th>Lng</th>\n",
       "      <th>Max Temp</th>\n",
       "      <th>Humidity</th>\n",
       "      <th>Cloudiness</th>\n",
       "      <th>Wind Speed</th>\n",
       "      <th>Country</th>\n",
       "      <th>Date</th>\n",
       "    </tr>\n",
       "  </thead>\n",
       "  <tbody>\n",
       "    <tr>\n",
       "      <th>0</th>\n",
       "      <td>Yellowknife</td>\n",
       "      <td>62.4560</td>\n",
       "      <td>-114.3525</td>\n",
       "      <td>0.00</td>\n",
       "      <td>65</td>\n",
       "      <td>75</td>\n",
       "      <td>9.22</td>\n",
       "      <td>CA</td>\n",
       "      <td>1614803321</td>\n",
       "    </tr>\n",
       "    <tr>\n",
       "      <th>1</th>\n",
       "      <td>Ilulissat</td>\n",
       "      <td>69.2167</td>\n",
       "      <td>-51.1000</td>\n",
       "      <td>33.80</td>\n",
       "      <td>51</td>\n",
       "      <td>75</td>\n",
       "      <td>10.36</td>\n",
       "      <td>GL</td>\n",
       "      <td>1614803332</td>\n",
       "    </tr>\n",
       "    <tr>\n",
       "      <th>2</th>\n",
       "      <td>George Town</td>\n",
       "      <td>5.4112</td>\n",
       "      <td>100.3354</td>\n",
       "      <td>81.00</td>\n",
       "      <td>88</td>\n",
       "      <td>20</td>\n",
       "      <td>4.38</td>\n",
       "      <td>MY</td>\n",
       "      <td>1614803139</td>\n",
       "    </tr>\n",
       "    <tr>\n",
       "      <th>3</th>\n",
       "      <td>Rikitea</td>\n",
       "      <td>-23.1203</td>\n",
       "      <td>-134.9692</td>\n",
       "      <td>79.05</td>\n",
       "      <td>77</td>\n",
       "      <td>56</td>\n",
       "      <td>9.06</td>\n",
       "      <td>PF</td>\n",
       "      <td>1614803332</td>\n",
       "    </tr>\n",
       "    <tr>\n",
       "      <th>4</th>\n",
       "      <td>Ushuaia</td>\n",
       "      <td>-54.8000</td>\n",
       "      <td>-68.3000</td>\n",
       "      <td>57.20</td>\n",
       "      <td>44</td>\n",
       "      <td>40</td>\n",
       "      <td>3.44</td>\n",
       "      <td>AR</td>\n",
       "      <td>1614803199</td>\n",
       "    </tr>\n",
       "  </tbody>\n",
       "</table>\n",
       "</div>"
      ],
      "text/plain": [
       "          City      Lat       Lng  Max Temp  Humidity  Cloudiness  Wind Speed  \\\n",
       "0  Yellowknife  62.4560 -114.3525      0.00        65          75        9.22   \n",
       "1    Ilulissat  69.2167  -51.1000     33.80        51          75       10.36   \n",
       "2  George Town   5.4112  100.3354     81.00        88          20        4.38   \n",
       "3      Rikitea -23.1203 -134.9692     79.05        77          56        9.06   \n",
       "4      Ushuaia -54.8000  -68.3000     57.20        44          40        3.44   \n",
       "\n",
       "  Country        Date  \n",
       "0      CA  1614803321  \n",
       "1      GL  1614803332  \n",
       "2      MY  1614803139  \n",
       "3      PF  1614803332  \n",
       "4      AR  1614803199  "
      ]
     },
     "execution_count": 6,
     "metadata": {},
     "output_type": "execute_result"
    }
   ],
   "source": [
    "DF = pd.DataFrame({'City': name, 'Lat': lat, 'Lng': lon, 'Max Temp': temp, 'Humidity': hum, 'Cloudiness': cloud, 'Wind Speed': wind, 'Country': country, 'Date': date})\n",
    "DF.to_csv(\"../Data/cities.csv\", index=False, header=True)\n",
    "DF.head()"
   ]
  },
  {
   "cell_type": "code",
   "execution_count": 7,
   "metadata": {},
   "outputs": [
    {
     "data": {
      "text/html": [
       "<div>\n",
       "<style scoped>\n",
       "    .dataframe tbody tr th:only-of-type {\n",
       "        vertical-align: middle;\n",
       "    }\n",
       "\n",
       "    .dataframe tbody tr th {\n",
       "        vertical-align: top;\n",
       "    }\n",
       "\n",
       "    .dataframe thead th {\n",
       "        text-align: right;\n",
       "    }\n",
       "</style>\n",
       "<table border=\"1\" class=\"dataframe\">\n",
       "  <thead>\n",
       "    <tr style=\"text-align: right;\">\n",
       "      <th></th>\n",
       "      <th>Lat</th>\n",
       "      <th>Lng</th>\n",
       "      <th>Max Temp</th>\n",
       "      <th>Humidity</th>\n",
       "      <th>Cloudiness</th>\n",
       "      <th>Wind Speed</th>\n",
       "      <th>Date</th>\n",
       "    </tr>\n",
       "  </thead>\n",
       "  <tbody>\n",
       "    <tr>\n",
       "      <th>count</th>\n",
       "      <td>547.000000</td>\n",
       "      <td>547.000000</td>\n",
       "      <td>547.000000</td>\n",
       "      <td>547.000000</td>\n",
       "      <td>547.000000</td>\n",
       "      <td>547.000000</td>\n",
       "      <td>5.470000e+02</td>\n",
       "    </tr>\n",
       "    <tr>\n",
       "      <th>mean</th>\n",
       "      <td>19.866663</td>\n",
       "      <td>11.533880</td>\n",
       "      <td>53.539835</td>\n",
       "      <td>70.153565</td>\n",
       "      <td>51.546618</td>\n",
       "      <td>8.670676</td>\n",
       "      <td>1.614803e+09</td>\n",
       "    </tr>\n",
       "    <tr>\n",
       "      <th>std</th>\n",
       "      <td>33.823417</td>\n",
       "      <td>90.074121</td>\n",
       "      <td>29.846732</td>\n",
       "      <td>21.823346</td>\n",
       "      <td>39.253930</td>\n",
       "      <td>6.752123</td>\n",
       "      <td>7.998568e+01</td>\n",
       "    </tr>\n",
       "    <tr>\n",
       "      <th>min</th>\n",
       "      <td>-54.800000</td>\n",
       "      <td>-179.166700</td>\n",
       "      <td>-41.240000</td>\n",
       "      <td>6.000000</td>\n",
       "      <td>0.000000</td>\n",
       "      <td>0.430000</td>\n",
       "      <td>1.614803e+09</td>\n",
       "    </tr>\n",
       "    <tr>\n",
       "      <th>25%</th>\n",
       "      <td>-7.926800</td>\n",
       "      <td>-66.638950</td>\n",
       "      <td>35.600000</td>\n",
       "      <td>59.500000</td>\n",
       "      <td>8.000000</td>\n",
       "      <td>4.070000</td>\n",
       "      <td>1.614803e+09</td>\n",
       "    </tr>\n",
       "    <tr>\n",
       "      <th>50%</th>\n",
       "      <td>24.100000</td>\n",
       "      <td>15.159400</td>\n",
       "      <td>62.010000</td>\n",
       "      <td>76.000000</td>\n",
       "      <td>51.000000</td>\n",
       "      <td>7.160000</td>\n",
       "      <td>1.614803e+09</td>\n",
       "    </tr>\n",
       "    <tr>\n",
       "      <th>75%</th>\n",
       "      <td>48.917550</td>\n",
       "      <td>85.781800</td>\n",
       "      <td>77.045000</td>\n",
       "      <td>87.000000</td>\n",
       "      <td>90.000000</td>\n",
       "      <td>11.500000</td>\n",
       "      <td>1.614803e+09</td>\n",
       "    </tr>\n",
       "    <tr>\n",
       "      <th>max</th>\n",
       "      <td>78.218600</td>\n",
       "      <td>178.416700</td>\n",
       "      <td>105.780000</td>\n",
       "      <td>100.000000</td>\n",
       "      <td>100.000000</td>\n",
       "      <td>50.640000</td>\n",
       "      <td>1.614803e+09</td>\n",
       "    </tr>\n",
       "  </tbody>\n",
       "</table>\n",
       "</div>"
      ],
      "text/plain": [
       "              Lat         Lng    Max Temp    Humidity  Cloudiness  Wind Speed  \\\n",
       "count  547.000000  547.000000  547.000000  547.000000  547.000000  547.000000   \n",
       "mean    19.866663   11.533880   53.539835   70.153565   51.546618    8.670676   \n",
       "std     33.823417   90.074121   29.846732   21.823346   39.253930    6.752123   \n",
       "min    -54.800000 -179.166700  -41.240000    6.000000    0.000000    0.430000   \n",
       "25%     -7.926800  -66.638950   35.600000   59.500000    8.000000    4.070000   \n",
       "50%     24.100000   15.159400   62.010000   76.000000   51.000000    7.160000   \n",
       "75%     48.917550   85.781800   77.045000   87.000000   90.000000   11.500000   \n",
       "max     78.218600  178.416700  105.780000  100.000000  100.000000   50.640000   \n",
       "\n",
       "               Date  \n",
       "count  5.470000e+02  \n",
       "mean   1.614803e+09  \n",
       "std    7.998568e+01  \n",
       "min    1.614803e+09  \n",
       "25%    1.614803e+09  \n",
       "50%    1.614803e+09  \n",
       "75%    1.614803e+09  \n",
       "max    1.614803e+09  "
      ]
     },
     "execution_count": 7,
     "metadata": {},
     "output_type": "execute_result"
    }
   ],
   "source": [
    "DF.describe()"
   ]
  },
  {
   "cell_type": "markdown",
   "metadata": {},
   "source": [
    "## Inspect the data and remove the cities where the humidity > 100%.\n",
    "----\n",
    "Skip this step if there are no cities that have humidity > 100%. "
   ]
  },
  {
   "cell_type": "code",
   "execution_count": 8,
   "metadata": {},
   "outputs": [
    {
     "data": {
      "text/html": [
       "<div>\n",
       "<style scoped>\n",
       "    .dataframe tbody tr th:only-of-type {\n",
       "        vertical-align: middle;\n",
       "    }\n",
       "\n",
       "    .dataframe tbody tr th {\n",
       "        vertical-align: top;\n",
       "    }\n",
       "\n",
       "    .dataframe thead th {\n",
       "        text-align: right;\n",
       "    }\n",
       "</style>\n",
       "<table border=\"1\" class=\"dataframe\">\n",
       "  <thead>\n",
       "    <tr style=\"text-align: right;\">\n",
       "      <th></th>\n",
       "      <th>City</th>\n",
       "      <th>Lat</th>\n",
       "      <th>Lng</th>\n",
       "      <th>Max Temp</th>\n",
       "      <th>Humidity</th>\n",
       "      <th>Cloudiness</th>\n",
       "      <th>Wind Speed</th>\n",
       "      <th>Country</th>\n",
       "      <th>Date</th>\n",
       "    </tr>\n",
       "  </thead>\n",
       "  <tbody>\n",
       "    <tr>\n",
       "      <th>0</th>\n",
       "      <td>Yellowknife</td>\n",
       "      <td>62.4560</td>\n",
       "      <td>-114.3525</td>\n",
       "      <td>0.00</td>\n",
       "      <td>65</td>\n",
       "      <td>75</td>\n",
       "      <td>9.22</td>\n",
       "      <td>CA</td>\n",
       "      <td>1614803321</td>\n",
       "    </tr>\n",
       "    <tr>\n",
       "      <th>1</th>\n",
       "      <td>Ilulissat</td>\n",
       "      <td>69.2167</td>\n",
       "      <td>-51.1000</td>\n",
       "      <td>33.80</td>\n",
       "      <td>51</td>\n",
       "      <td>75</td>\n",
       "      <td>10.36</td>\n",
       "      <td>GL</td>\n",
       "      <td>1614803332</td>\n",
       "    </tr>\n",
       "    <tr>\n",
       "      <th>2</th>\n",
       "      <td>George Town</td>\n",
       "      <td>5.4112</td>\n",
       "      <td>100.3354</td>\n",
       "      <td>81.00</td>\n",
       "      <td>88</td>\n",
       "      <td>20</td>\n",
       "      <td>4.38</td>\n",
       "      <td>MY</td>\n",
       "      <td>1614803139</td>\n",
       "    </tr>\n",
       "    <tr>\n",
       "      <th>3</th>\n",
       "      <td>Rikitea</td>\n",
       "      <td>-23.1203</td>\n",
       "      <td>-134.9692</td>\n",
       "      <td>79.05</td>\n",
       "      <td>77</td>\n",
       "      <td>56</td>\n",
       "      <td>9.06</td>\n",
       "      <td>PF</td>\n",
       "      <td>1614803332</td>\n",
       "    </tr>\n",
       "    <tr>\n",
       "      <th>4</th>\n",
       "      <td>Ushuaia</td>\n",
       "      <td>-54.8000</td>\n",
       "      <td>-68.3000</td>\n",
       "      <td>57.20</td>\n",
       "      <td>44</td>\n",
       "      <td>40</td>\n",
       "      <td>3.44</td>\n",
       "      <td>AR</td>\n",
       "      <td>1614803199</td>\n",
       "    </tr>\n",
       "  </tbody>\n",
       "</table>\n",
       "</div>"
      ],
      "text/plain": [
       "          City      Lat       Lng  Max Temp  Humidity  Cloudiness  Wind Speed  \\\n",
       "0  Yellowknife  62.4560 -114.3525      0.00        65          75        9.22   \n",
       "1    Ilulissat  69.2167  -51.1000     33.80        51          75       10.36   \n",
       "2  George Town   5.4112  100.3354     81.00        88          20        4.38   \n",
       "3      Rikitea -23.1203 -134.9692     79.05        77          56        9.06   \n",
       "4      Ushuaia -54.8000  -68.3000     57.20        44          40        3.44   \n",
       "\n",
       "  Country        Date  \n",
       "0      CA  1614803321  \n",
       "1      GL  1614803332  \n",
       "2      MY  1614803139  \n",
       "3      PF  1614803332  \n",
       "4      AR  1614803199  "
      ]
     },
     "execution_count": 8,
     "metadata": {},
     "output_type": "execute_result"
    }
   ],
   "source": [
    "DF_lowerhum = DF[DF['Humidity'] <= 100]\n",
    "DF_lowerhum.head()"
   ]
  },
  {
   "cell_type": "code",
   "execution_count": 9,
   "metadata": {},
   "outputs": [],
   "source": [
    "#  Get the indices of cities that have humidity over 100%.\n"
   ]
  },
  {
   "cell_type": "code",
   "execution_count": 10,
   "metadata": {},
   "outputs": [],
   "source": [
    "# Make a new DataFrame equal to the city data to drop all humidity outliers by index.\n",
    "# Passing \"inplace=False\" will make a copy of the city_data DataFrame, which we call \"clean_city_data\".\n"
   ]
  },
  {
   "cell_type": "code",
   "execution_count": null,
   "metadata": {},
   "outputs": [],
   "source": [
    "\n"
   ]
  },
  {
   "cell_type": "markdown",
   "metadata": {},
   "source": [
    "## Plotting the Data\n",
    "* Use proper labeling of the plots using plot titles (including date of analysis) and axes labels.\n",
    "* Save the plotted figures as .pngs."
   ]
  },
  {
   "cell_type": "markdown",
   "metadata": {},
   "source": [
    "## Latitude vs. Temperature Plot"
   ]
  },
  {
   "cell_type": "code",
   "execution_count": 11,
   "metadata": {
    "scrolled": true
   },
   "outputs": [
    {
     "data": {
      "image/png": "[encoded data removed]",
      "text/plain": [
       "<Figure size 432x288 with 1 Axes>"
      ]
     },
     "metadata": {
      "needs_background": "light"
     },
     "output_type": "display_data"
    }
   ],
   "source": [
    "plt.scatter(DF['Lat'], DF['Max Temp'])\n",
    "plt.title('Latitude vs. Max Temp (3/2/21)')\n",
    "plt.xlabel('Latitude')\n",
    "plt.ylabel('Max Temp')\n",
    "plt.grid(True)\n",
    "plt.savefig(\"../Images/Lat vs. Max Temp.png\")\n",
    "plt.show()"
   ]
  },
  {
   "cell_type": "markdown",
   "metadata": {},
   "source": [
    "## Latitude vs. Humidity Plot"
   ]
  },
  {
   "cell_type": "code",
   "execution_count": 13,
   "metadata": {},
   "outputs": [
    {
     "data": {
      "image/png": "[encoded data removed]",
      "text/plain": [
       "<Figure size 432x288 with 1 Axes>"
      ]
     },
     "metadata": {
      "needs_background": "light"
     },
     "output_type": "display_data"
    }
   ],
   "source": [
    "plt.scatter(DF['Lat'], DF['Humidity'])\n",
    "plt.title('Latitude vs. Humidity (3/2/21)')\n",
    "plt.xlabel('Latitude')\n",
    "plt.ylabel('Humidity (%)')\n",
    "plt.grid(True)\n",
    "plt.savefig(\"../Images/Lat vs. Hum.png\")\n",
    "plt.show()"
   ]
  },
  {
   "cell_type": "markdown",
   "metadata": {},
   "source": [
    "## Latitude vs. Cloudiness Plot"
   ]
  },
  {
   "cell_type": "code",
   "execution_count": 15,
   "metadata": {},
   "outputs": [
    {
     "data": {
      "image/png": "[encoded data removed]",
      "text/plain": [
       "<Figure size 432x288 with 1 Axes>"
      ]
     },
     "metadata": {
      "needs_background": "light"
     },
     "output_type": "display_data"
    }
   ],
   "source": [
    "plt.scatter(DF['Lat'], DF['Cloudiness'])\n",
    "plt.title('Latitude vs. Cloudiness (3/2/21)')\n",
    "plt.xlabel('Latitude')\n",
    "plt.ylabel('Cloudiness (%)')\n",
    "plt.grid(True)\n",
    "plt.savefig(\"../Images/Lat vs. Cloud.png\")\n",
    "plt.show()"
   ]
  },
  {
   "cell_type": "markdown",
   "metadata": {},
   "source": [
    "## Latitude vs. Wind Speed Plot"
   ]
  },
  {
   "cell_type": "code",
   "execution_count": 16,
   "metadata": {},
   "outputs": [
    {
     "data": {
      "image/png": "[encoded data removed]",
      "text/plain": [
       "<Figure size 432x288 with 1 Axes>"
      ]
     },
     "metadata": {
      "needs_background": "light"
     },
     "output_type": "display_data"
    }
   ],
   "source": [
    "plt.scatter(DF['Lat'], DF['Wind Speed'])\n",
    "plt.title('Latitude vs. Wind Speed (3/2/21)')\n",
    "plt.xlabel('Latitude')\n",
    "plt.ylabel('Wind Speed (mph)')\n",
    "plt.grid(True)\n",
    "plt.savefig(\"../Images/Lat vs. Wind.png\")\n",
    "plt.show()"
   ]
  },
  {
   "cell_type": "markdown",
   "metadata": {},
   "source": [
    "## Linear Regression"
   ]
  },
  {
   "cell_type": "code",
   "execution_count": 17,
   "metadata": {},
   "outputs": [],
   "source": [
    "NorthDF = DF[DF['Lat'] > 0]\n",
    "SouthDF = DF[DF['Lat'] < 0]"
   ]
  },
  {
   "cell_type": "markdown",
   "metadata": {},
   "source": [
    "####  Northern Hemisphere - Max Temp vs. Latitude Linear Regression"
   ]
  },
  {
   "cell_type": "code",
   "execution_count": 18,
   "metadata": {},
   "outputs": [
    {
     "name": "stdout",
     "output_type": "stream",
     "text": [
      "r = -0.8633876035941286\n"
     ]
    },
    {
     "data": {
      "image/png": "[encoded data removed]",
      "text/plain": [
       "<Figure size 432x288 with 1 Axes>"
      ]
     },
     "metadata": {
      "needs_background": "light"
     },
     "output_type": "display_data"
    }
   ],
   "source": [
    "print(f'r = {st.pearsonr(NorthDF[\"Lat\"], NorthDF[\"Max Temp\"])[0]}')\n",
    "(slope, intercept, rvalue, pvalue, stderr) = linregress(NorthDF['Lat'], NorthDF['Max Temp'])\n",
    "regress = NorthDF['Lat'] * slope + intercept\n",
    "line_eq = \"y = \" + str(round(slope,2)) + \"x + \" + str(round(intercept,2))\n",
    "plt.scatter(NorthDF['Lat'], NorthDF['Max Temp'])\n",
    "plt.plot(NorthDF['Lat'], regress, \"r-\")\n",
    "plt.annotate(line_eq, (6,-20), fontsize=15, color=\"red\")\n",
    "plt.xlabel('Latitude')\n",
    "plt.ylabel('Max Temp')\n",
    "plt.title('Latitude vs. Max Temperature in the Northern Hemisphere')\n",
    "plt.show()"
   ]
  },
  {
   "cell_type": "markdown",
   "metadata": {},
   "source": [
    "####  Southern Hemisphere - Max Temp vs. Latitude Linear Regression"
   ]
  },
  {
   "cell_type": "code",
   "execution_count": 21,
   "metadata": {},
   "outputs": [
    {
     "name": "stdout",
     "output_type": "stream",
     "text": [
      "r = 0.5402698761357262\n"
     ]
    },
    {
     "data": {
      "image/png": "[encoded data removed]",
      "text/plain": [
       "<Figure size 432x288 with 1 Axes>"
      ]
     },
     "metadata": {
      "needs_background": "light"
     },
     "output_type": "display_data"
    }
   ],
   "source": [
    "print(f'r = {st.pearsonr(SouthDF[\"Lat\"], SouthDF[\"Max Temp\"])[0]}')\n",
    "(slope, intercept, rvalue, pvalue, stderr) = linregress(SouthDF['Lat'], SouthDF['Max Temp'])\n",
    "regress = SouthDF['Lat'] * slope + intercept\n",
    "line_eq = \"y = \" + str(round(slope,2)) + \"x + \" + str(round(intercept,2))\n",
    "plt.scatter(SouthDF['Lat'], SouthDF['Max Temp'])\n",
    "plt.plot(SouthDF['Lat'], regress, \"r-\")\n",
    "plt.annotate(line_eq, (-30,54), fontsize=15, color=\"red\")\n",
    "plt.xlabel('Latitude')\n",
    "plt.ylabel('Max Temp')\n",
    "plt.title('Latitude vs. Max Temperature in the Southern Hemisphere')\n",
    "plt.show()"
   ]
  },
  {
   "cell_type": "markdown",
   "metadata": {},
   "source": [
    "####  Northern Hemisphere - Humidity (%) vs. Latitude Linear Regression"
   ]
  },
  {
   "cell_type": "code",
   "execution_count": 24,
   "metadata": {},
   "outputs": [
    {
     "name": "stdout",
     "output_type": "stream",
     "text": [
      "r = 0.35988976602435563\n"
     ]
    },
    {
     "data": {
      "image/png": "[encoded data removed]",
      "text/plain": [
       "<Figure size 432x288 with 1 Axes>"
      ]
     },
     "metadata": {
      "needs_background": "light"
     },
     "output_type": "display_data"
    }
   ],
   "source": [
    "print(f'r = {st.pearsonr(NorthDF[\"Lat\"], NorthDF[\"Humidity\"])[0]}')\n",
    "(slope, intercept, rvalue, pvalue, stderr) = linregress(NorthDF['Lat'], NorthDF['Humidity'])\n",
    "regress = NorthDF['Lat'] * slope + intercept\n",
    "line_eq = \"y = \" + str(round(slope,2)) + \"x + \" + str(round(intercept,2))\n",
    "plt.scatter(NorthDF['Lat'], NorthDF['Humidity'])\n",
    "plt.plot(NorthDF['Lat'], regress, \"r-\")\n",
    "plt.annotate(line_eq, (45,10), fontsize=15, color=\"red\")\n",
    "plt.xlabel('Latitude')\n",
    "plt.ylabel('Humidity (%)')\n",
    "plt.title('Latitude vs. Humidity (%) in the Northern Hemisphere')\n",
    "plt.show()"
   ]
  },
  {
   "cell_type": "markdown",
   "metadata": {},
   "source": [
    "####  Southern Hemisphere - Humidity (%) vs. Latitude Linear Regression"
   ]
  },
  {
   "cell_type": "code",
   "execution_count": 27,
   "metadata": {},
   "outputs": [
    {
     "name": "stdout",
     "output_type": "stream",
     "text": [
      "r = 0.19735510478435705\n"
     ]
    },
    {
     "data": {
      "image/png": "[encoded data removed]",
      "text/plain": [
       "<Figure size 432x288 with 1 Axes>"
      ]
     },
     "metadata": {
      "needs_background": "light"
     },
     "output_type": "display_data"
    }
   ],
   "source": [
    "print(f'r = {st.pearsonr(SouthDF[\"Lat\"], SouthDF[\"Humidity\"])[0]}')\n",
    "(slope, intercept, rvalue, pvalue, stderr) = linregress(SouthDF['Lat'], SouthDF['Humidity'])\n",
    "regress = SouthDF['Lat'] * slope + intercept\n",
    "line_eq = \"y = \" + str(round(slope,2)) + \"x + \" + str(round(intercept,2))\n",
    "plt.scatter(SouthDF['Lat'], SouthDF['Humidity'])\n",
    "plt.plot(SouthDF['Lat'], regress, \"r-\")\n",
    "plt.annotate(line_eq, (-55,23), fontsize=15, color=\"red\")\n",
    "plt.xlabel('Latitude')\n",
    "plt.ylabel('Humidity (%)')\n",
    "plt.title('Latitude vs. Humidity (%) in the Southern Hemisphere')\n",
    "plt.show()"
   ]
  },
  {
   "cell_type": "markdown",
   "metadata": {},
   "source": [
    "####  Northern Hemisphere - Cloudiness (%) vs. Latitude Linear Regression"
   ]
  },
  {
   "cell_type": "code",
   "execution_count": 28,
   "metadata": {},
   "outputs": [
    {
     "name": "stdout",
     "output_type": "stream",
     "text": [
      "r = 0.32630568717578823\n"
     ]
    },
    {
     "data": {
      "image/png": "[encoded data removed]",
      "text/plain": [
       "<Figure size 432x288 with 1 Axes>"
      ]
     },
     "metadata": {
      "needs_background": "light"
     },
     "output_type": "display_data"
    }
   ],
   "source": [
    "print(f'r = {st.pearsonr(NorthDF[\"Lat\"], NorthDF[\"Cloudiness\"])[0]}')\n",
    "(slope, intercept, rvalue, pvalue, stderr) = linregress(NorthDF['Lat'], NorthDF['Cloudiness'])\n",
    "regress = NorthDF['Lat'] * slope + intercept\n",
    "line_eq = \"y = \" + str(round(slope,2)) + \"x + \" + str(round(intercept,2))\n",
    "plt.scatter(NorthDF['Lat'], NorthDF['Cloudiness'])\n",
    "plt.plot(NorthDF['Lat'], regress, \"r-\")\n",
    "plt.annotate(line_eq, (35,10), fontsize=15, color=\"red\")\n",
    "plt.xlabel('Latitude')\n",
    "plt.ylabel('Cloudiness (%)')\n",
    "plt.title('Latitude vs. Cloudiness (%) in the Northern Hemisphere')\n",
    "plt.show()"
   ]
  },
  {
   "cell_type": "markdown",
   "metadata": {},
   "source": [
    "####  Southern Hemisphere - Cloudiness (%) vs. Latitude Linear Regression"
   ]
  },
  {
   "cell_type": "code",
   "execution_count": 30,
   "metadata": {},
   "outputs": [
    {
     "name": "stdout",
     "output_type": "stream",
     "text": [
      "r = 0.1376245668607246\n"
     ]
    },
    {
     "data": {
      "image/png": "[encoded data removed]",
      "text/plain": [
       "<Figure size 432x288 with 1 Axes>"
      ]
     },
     "metadata": {
      "needs_background": "light"
     },
     "output_type": "display_data"
    }
   ],
   "source": [
    "print(f'r = {st.pearsonr(SouthDF[\"Lat\"], SouthDF[\"Cloudiness\"])[0]}')\n",
    "(slope, intercept, rvalue, pvalue, stderr) = linregress(SouthDF['Lat'], SouthDF['Cloudiness'])\n",
    "regress = SouthDF['Lat'] * slope + intercept\n",
    "line_eq = \"y = \" + str(round(slope,2)) + \"x + \" + str(round(intercept,2))\n",
    "plt.scatter(SouthDF['Lat'], SouthDF['Cloudiness'])\n",
    "plt.plot(SouthDF['Lat'], regress, \"r-\")\n",
    "plt.annotate(line_eq, (-55,82), fontsize=15, color=\"red\")\n",
    "plt.xlabel('Latitude')\n",
    "plt.ylabel('Cloudiness (%)')\n",
    "plt.title('Latitude vs. Cloudiness (%) in the Southern Hemisphere')\n",
    "plt.show()"
   ]
  },
  {
   "cell_type": "markdown",
   "metadata": {},
   "source": [
    "####  Northern Hemisphere - Wind Speed (mph) vs. Latitude Linear Regression"
   ]
  },
  {
   "cell_type": "code",
   "execution_count": 31,
   "metadata": {},
   "outputs": [
    {
     "name": "stdout",
     "output_type": "stream",
     "text": [
      "r = 0.09508336542413451\n"
     ]
    },
    {
     "data": {
      "image/png": "[encoded data removed]",
      "text/plain": [
       "<Figure size 432x288 with 1 Axes>"
      ]
     },
     "metadata": {
      "needs_background": "light"
     },
     "output_type": "display_data"
    }
   ],
   "source": [
    "print(f'r = {st.pearsonr(NorthDF[\"Lat\"], NorthDF[\"Wind Speed\"])[0]}')\n",
    "(slope, intercept, rvalue, pvalue, stderr) = linregress(NorthDF['Lat'], NorthDF['Wind Speed'])\n",
    "regress = NorthDF['Lat'] * slope + intercept\n",
    "line_eq = \"y = \" + str(round(slope,2)) + \"x + \" + str(round(intercept,2))\n",
    "plt.scatter(NorthDF['Lat'], NorthDF['Wind Speed'])\n",
    "plt.plot(NorthDF['Lat'], regress, \"r-\")\n",
    "plt.annotate(line_eq, (10,35), fontsize=15, color=\"red\")\n",
    "plt.xlabel('Latitude')\n",
    "plt.ylabel('Wind Speed (mph)')\n",
    "plt.title('Latitude vs. Wind Speed (mph) in the Northern Hemisphere')\n",
    "plt.show()"
   ]
  },
  {
   "cell_type": "markdown",
   "metadata": {},
   "source": [
    "####  Southern Hemisphere - Wind Speed (mph) vs. Latitude Linear Regression"
   ]
  },
  {
   "cell_type": "code",
   "execution_count": 33,
   "metadata": {},
   "outputs": [
    {
     "name": "stdout",
     "output_type": "stream",
     "text": [
      "r = -0.10264888845042663\n"
     ]
    },
    {
     "data": {
      "image/png": "[encoded data removed]",
      "text/plain": [
       "<Figure size 432x288 with 1 Axes>"
      ]
     },
     "metadata": {
      "needs_background": "light"
     },
     "output_type": "display_data"
    }
   ],
   "source": [
    "print(f'r = {st.pearsonr(SouthDF[\"Lat\"], SouthDF[\"Wind Speed\"])[0]}')\n",
    "(slope, intercept, rvalue, pvalue, stderr) = linregress(SouthDF['Lat'], SouthDF['Wind Speed'])\n",
    "regress = SouthDF['Lat'] * slope + intercept\n",
    "line_eq = \"y = \" + str(round(slope,2)) + \"x + \" + str(round(intercept,2))\n",
    "plt.scatter(SouthDF['Lat'], SouthDF['Wind Speed'])\n",
    "plt.plot(SouthDF['Lat'], regress, \"r-\")\n",
    "plt.annotate(line_eq, (-50,25), fontsize=15, color=\"red\")\n",
    "plt.xlabel('Latitude')\n",
    "plt.ylabel('Wind Speed (mph)')\n",
    "plt.title('Latitude vs. Wind Speed (mph) in the Southern Hemisphere')\n",
    "plt.show()"
   ]
  },
  {
   "cell_type": "code",
   "execution_count": null,
   "metadata": {},
   "outputs": [],
   "source": []
  }
 ],
 "metadata": {
  "anaconda-cloud": {},
  "kernel_info": {
   "name": "python3"
  },
  "kernelspec": {
   "display_name": "Python 3",
   "language": "python",
   "name": "python3"
  },
  "language_info": {
   "codemirror_mode": {
    "name": "ipython",
    "version": 3
   },
   "file_extension": ".py",
   "mimetype": "text/x-python",
   "name": "python",
   "nbconvert_exporter": "python",
   "pygments_lexer": "ipython3",
   "version": "3.8.5"
  },
  "latex_envs": {
   "LaTeX_envs_menu_present": true,
   "autoclose": false,
   "autocomplete": true,
   "bibliofile": "biblio.bib",
   "cite_by": "apalike",
   "current_citInitial": 1,
   "eqLabelWithNumbers": true,
   "eqNumInitial": 1,
   "hotkeys": {
    "equation": "Ctrl-E",
    "itemize": "Ctrl-I"
   },
   "labels_anchors": false,
   "latex_user_defs": false,
   "report_style_numbering": false,
   "user_envs_cfg": false
  },
  "nteract": {
   "version": "0.12.3"
  }
 },
 "nbformat": 4,
 "nbformat_minor": 2
}
